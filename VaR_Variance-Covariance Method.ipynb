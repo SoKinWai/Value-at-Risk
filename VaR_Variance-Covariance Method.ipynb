{
 "cells": [
  {
   "cell_type": "code",
   "execution_count": 1,
   "metadata": {},
   "outputs": [],
   "source": [
    "import yfinance as yf\n",
    "import numpy as np\n",
    "import datetime as dt\n",
    "import matplotlib.pyplot as plt\n",
    "from scipy.stats import norm"
   ]
  },
  {
   "cell_type": "code",
   "execution_count": 2,
   "metadata": {},
   "outputs": [],
   "source": [
    "tickers=['AAPL','GOOG','C','DIS','F','MSFT','MS','GME','TSLA','AMZN']\n",
    "start=dt.datetime(2019,1,1)\n",
    "end=dt.datetime.now()"
   ]
  },
  {
   "cell_type": "code",
   "execution_count": 3,
   "metadata": {},
   "outputs": [],
   "source": [
    "def getData(stocks, start, end):\n",
    "    stockData = yf.download(stocks,start,end)['Adj Close']\n",
    "    returns = stockData.pct_change()\n",
    "    meanReturns = returns.mean()\n",
    "    covMatrix = returns.cov()\n",
    "    return returns, meanReturns, covMatrix"
   ]
  },
  {
   "cell_type": "code",
   "execution_count": 4,
   "metadata": {},
   "outputs": [
    {
     "name": "stdout",
     "output_type": "stream",
     "text": [
      "[*********************100%***********************]  10 of 10 completed\n"
     ]
    },
    {
     "data": {
      "text/html": [
       "<div>\n",
       "<style scoped>\n",
       "    .dataframe tbody tr th:only-of-type {\n",
       "        vertical-align: middle;\n",
       "    }\n",
       "\n",
       "    .dataframe tbody tr th {\n",
       "        vertical-align: top;\n",
       "    }\n",
       "\n",
       "    .dataframe thead th {\n",
       "        text-align: right;\n",
       "    }\n",
       "</style>\n",
       "<table border=\"1\" class=\"dataframe\">\n",
       "  <thead>\n",
       "    <tr style=\"text-align: right;\">\n",
       "      <th></th>\n",
       "      <th>AAPL</th>\n",
       "      <th>AMZN</th>\n",
       "      <th>C</th>\n",
       "      <th>DIS</th>\n",
       "      <th>F</th>\n",
       "      <th>GME</th>\n",
       "      <th>GOOG</th>\n",
       "      <th>MS</th>\n",
       "      <th>MSFT</th>\n",
       "      <th>TSLA</th>\n",
       "    </tr>\n",
       "    <tr>\n",
       "      <th>Date</th>\n",
       "      <th></th>\n",
       "      <th></th>\n",
       "      <th></th>\n",
       "      <th></th>\n",
       "      <th></th>\n",
       "      <th></th>\n",
       "      <th></th>\n",
       "      <th></th>\n",
       "      <th></th>\n",
       "      <th></th>\n",
       "    </tr>\n",
       "  </thead>\n",
       "  <tbody>\n",
       "    <tr>\n",
       "      <th>2019-01-02</th>\n",
       "      <td>NaN</td>\n",
       "      <td>NaN</td>\n",
       "      <td>NaN</td>\n",
       "      <td>NaN</td>\n",
       "      <td>NaN</td>\n",
       "      <td>NaN</td>\n",
       "      <td>NaN</td>\n",
       "      <td>NaN</td>\n",
       "      <td>NaN</td>\n",
       "      <td>NaN</td>\n",
       "    </tr>\n",
       "    <tr>\n",
       "      <th>2019-01-03</th>\n",
       "      <td>-0.099608</td>\n",
       "      <td>-0.025241</td>\n",
       "      <td>-0.018121</td>\n",
       "      <td>-0.024227</td>\n",
       "      <td>-0.01519</td>\n",
       "      <td>-0.007651</td>\n",
       "      <td>-0.028484</td>\n",
       "      <td>-0.017822</td>\n",
       "      <td>-0.036788</td>\n",
       "      <td>-0.031472</td>\n",
       "    </tr>\n",
       "    <tr>\n",
       "      <th>2019-01-04</th>\n",
       "      <td>0.042689</td>\n",
       "      <td>0.050064</td>\n",
       "      <td>0.048896</td>\n",
       "      <td>0.030847</td>\n",
       "      <td>0.03856</td>\n",
       "      <td>0.175019</td>\n",
       "      <td>0.053786</td>\n",
       "      <td>0.040827</td>\n",
       "      <td>0.046509</td>\n",
       "      <td>0.057697</td>\n",
       "    </tr>\n",
       "    <tr>\n",
       "      <th>2019-01-07</th>\n",
       "      <td>-0.002226</td>\n",
       "      <td>0.034353</td>\n",
       "      <td>0.008707</td>\n",
       "      <td>0.008667</td>\n",
       "      <td>0.02599</td>\n",
       "      <td>0.015748</td>\n",
       "      <td>-0.002167</td>\n",
       "      <td>0.009928</td>\n",
       "      <td>0.001275</td>\n",
       "      <td>0.054361</td>\n",
       "    </tr>\n",
       "    <tr>\n",
       "      <th>2019-01-08</th>\n",
       "      <td>0.019063</td>\n",
       "      <td>0.016612</td>\n",
       "      <td>-0.002697</td>\n",
       "      <td>0.007779</td>\n",
       "      <td>0.00965</td>\n",
       "      <td>0.021318</td>\n",
       "      <td>0.007385</td>\n",
       "      <td>-0.006234</td>\n",
       "      <td>0.007251</td>\n",
       "      <td>0.001164</td>\n",
       "    </tr>\n",
       "  </tbody>\n",
       "</table>\n",
       "</div>"
      ],
      "text/plain": [
       "                AAPL      AMZN         C       DIS        F       GME  \\\n",
       "Date                                                                    \n",
       "2019-01-02       NaN       NaN       NaN       NaN      NaN       NaN   \n",
       "2019-01-03 -0.099608 -0.025241 -0.018121 -0.024227 -0.01519 -0.007651   \n",
       "2019-01-04  0.042689  0.050064  0.048896  0.030847  0.03856  0.175019   \n",
       "2019-01-07 -0.002226  0.034353  0.008707  0.008667  0.02599  0.015748   \n",
       "2019-01-08  0.019063  0.016612 -0.002697  0.007779  0.00965  0.021318   \n",
       "\n",
       "                GOOG        MS      MSFT      TSLA  \n",
       "Date                                                \n",
       "2019-01-02       NaN       NaN       NaN       NaN  \n",
       "2019-01-03 -0.028484 -0.017822 -0.036788 -0.031472  \n",
       "2019-01-04  0.053786  0.040827  0.046509  0.057697  \n",
       "2019-01-07 -0.002167  0.009928  0.001275  0.054361  \n",
       "2019-01-08  0.007385 -0.006234  0.007251  0.001164  "
      ]
     },
     "execution_count": 4,
     "metadata": {},
     "output_type": "execute_result"
    }
   ],
   "source": [
    "returns,avg_returns,cov_matrix=getData(tickers, start, end)\n",
    "returns.head()"
   ]
  },
  {
   "cell_type": "code",
   "execution_count": 5,
   "metadata": {},
   "outputs": [
    {
     "data": {
      "text/html": [
       "<div>\n",
       "<style scoped>\n",
       "    .dataframe tbody tr th:only-of-type {\n",
       "        vertical-align: middle;\n",
       "    }\n",
       "\n",
       "    .dataframe tbody tr th {\n",
       "        vertical-align: top;\n",
       "    }\n",
       "\n",
       "    .dataframe thead th {\n",
       "        text-align: right;\n",
       "    }\n",
       "</style>\n",
       "<table border=\"1\" class=\"dataframe\">\n",
       "  <thead>\n",
       "    <tr style=\"text-align: right;\">\n",
       "      <th></th>\n",
       "      <th>AAPL</th>\n",
       "      <th>AMZN</th>\n",
       "      <th>C</th>\n",
       "      <th>DIS</th>\n",
       "      <th>F</th>\n",
       "      <th>GME</th>\n",
       "      <th>GOOG</th>\n",
       "      <th>MS</th>\n",
       "      <th>MSFT</th>\n",
       "      <th>TSLA</th>\n",
       "    </tr>\n",
       "  </thead>\n",
       "  <tbody>\n",
       "    <tr>\n",
       "      <th>AAPL</th>\n",
       "      <td>0.000474</td>\n",
       "      <td>0.000319</td>\n",
       "      <td>0.000274</td>\n",
       "      <td>0.000230</td>\n",
       "      <td>0.000248</td>\n",
       "      <td>0.000359</td>\n",
       "      <td>0.000309</td>\n",
       "      <td>0.000284</td>\n",
       "      <td>0.000342</td>\n",
       "      <td>0.000455</td>\n",
       "    </tr>\n",
       "    <tr>\n",
       "      <th>AMZN</th>\n",
       "      <td>0.000319</td>\n",
       "      <td>0.000507</td>\n",
       "      <td>0.000188</td>\n",
       "      <td>0.000215</td>\n",
       "      <td>0.000186</td>\n",
       "      <td>0.000299</td>\n",
       "      <td>0.000305</td>\n",
       "      <td>0.000201</td>\n",
       "      <td>0.000316</td>\n",
       "      <td>0.000433</td>\n",
       "    </tr>\n",
       "    <tr>\n",
       "      <th>C</th>\n",
       "      <td>0.000274</td>\n",
       "      <td>0.000188</td>\n",
       "      <td>0.000693</td>\n",
       "      <td>0.000362</td>\n",
       "      <td>0.000452</td>\n",
       "      <td>0.000468</td>\n",
       "      <td>0.000261</td>\n",
       "      <td>0.000520</td>\n",
       "      <td>0.000258</td>\n",
       "      <td>0.000345</td>\n",
       "    </tr>\n",
       "    <tr>\n",
       "      <th>DIS</th>\n",
       "      <td>0.000230</td>\n",
       "      <td>0.000215</td>\n",
       "      <td>0.000362</td>\n",
       "      <td>0.000488</td>\n",
       "      <td>0.000328</td>\n",
       "      <td>0.000270</td>\n",
       "      <td>0.000235</td>\n",
       "      <td>0.000326</td>\n",
       "      <td>0.000232</td>\n",
       "      <td>0.000299</td>\n",
       "    </tr>\n",
       "    <tr>\n",
       "      <th>F</th>\n",
       "      <td>0.000248</td>\n",
       "      <td>0.000186</td>\n",
       "      <td>0.000452</td>\n",
       "      <td>0.000328</td>\n",
       "      <td>0.000801</td>\n",
       "      <td>0.000551</td>\n",
       "      <td>0.000231</td>\n",
       "      <td>0.000411</td>\n",
       "      <td>0.000219</td>\n",
       "      <td>0.000402</td>\n",
       "    </tr>\n",
       "    <tr>\n",
       "      <th>GME</th>\n",
       "      <td>0.000359</td>\n",
       "      <td>0.000299</td>\n",
       "      <td>0.000468</td>\n",
       "      <td>0.000270</td>\n",
       "      <td>0.000551</td>\n",
       "      <td>0.010259</td>\n",
       "      <td>0.000242</td>\n",
       "      <td>0.000309</td>\n",
       "      <td>0.000266</td>\n",
       "      <td>0.000713</td>\n",
       "    </tr>\n",
       "    <tr>\n",
       "      <th>GOOG</th>\n",
       "      <td>0.000309</td>\n",
       "      <td>0.000305</td>\n",
       "      <td>0.000261</td>\n",
       "      <td>0.000235</td>\n",
       "      <td>0.000231</td>\n",
       "      <td>0.000242</td>\n",
       "      <td>0.000410</td>\n",
       "      <td>0.000263</td>\n",
       "      <td>0.000324</td>\n",
       "      <td>0.000364</td>\n",
       "    </tr>\n",
       "    <tr>\n",
       "      <th>MS</th>\n",
       "      <td>0.000284</td>\n",
       "      <td>0.000201</td>\n",
       "      <td>0.000520</td>\n",
       "      <td>0.000326</td>\n",
       "      <td>0.000411</td>\n",
       "      <td>0.000309</td>\n",
       "      <td>0.000263</td>\n",
       "      <td>0.000557</td>\n",
       "      <td>0.000268</td>\n",
       "      <td>0.000322</td>\n",
       "    </tr>\n",
       "    <tr>\n",
       "      <th>MSFT</th>\n",
       "      <td>0.000342</td>\n",
       "      <td>0.000316</td>\n",
       "      <td>0.000258</td>\n",
       "      <td>0.000232</td>\n",
       "      <td>0.000219</td>\n",
       "      <td>0.000266</td>\n",
       "      <td>0.000324</td>\n",
       "      <td>0.000268</td>\n",
       "      <td>0.000400</td>\n",
       "      <td>0.000404</td>\n",
       "    </tr>\n",
       "    <tr>\n",
       "      <th>TSLA</th>\n",
       "      <td>0.000455</td>\n",
       "      <td>0.000433</td>\n",
       "      <td>0.000345</td>\n",
       "      <td>0.000299</td>\n",
       "      <td>0.000402</td>\n",
       "      <td>0.000713</td>\n",
       "      <td>0.000364</td>\n",
       "      <td>0.000322</td>\n",
       "      <td>0.000404</td>\n",
       "      <td>0.001766</td>\n",
       "    </tr>\n",
       "  </tbody>\n",
       "</table>\n",
       "</div>"
      ],
      "text/plain": [
       "          AAPL      AMZN         C       DIS         F       GME      GOOG  \\\n",
       "AAPL  0.000474  0.000319  0.000274  0.000230  0.000248  0.000359  0.000309   \n",
       "AMZN  0.000319  0.000507  0.000188  0.000215  0.000186  0.000299  0.000305   \n",
       "C     0.000274  0.000188  0.000693  0.000362  0.000452  0.000468  0.000261   \n",
       "DIS   0.000230  0.000215  0.000362  0.000488  0.000328  0.000270  0.000235   \n",
       "F     0.000248  0.000186  0.000452  0.000328  0.000801  0.000551  0.000231   \n",
       "GME   0.000359  0.000299  0.000468  0.000270  0.000551  0.010259  0.000242   \n",
       "GOOG  0.000309  0.000305  0.000261  0.000235  0.000231  0.000242  0.000410   \n",
       "MS    0.000284  0.000201  0.000520  0.000326  0.000411  0.000309  0.000263   \n",
       "MSFT  0.000342  0.000316  0.000258  0.000232  0.000219  0.000266  0.000324   \n",
       "TSLA  0.000455  0.000433  0.000345  0.000299  0.000402  0.000713  0.000364   \n",
       "\n",
       "            MS      MSFT      TSLA  \n",
       "AAPL  0.000284  0.000342  0.000455  \n",
       "AMZN  0.000201  0.000316  0.000433  \n",
       "C     0.000520  0.000258  0.000345  \n",
       "DIS   0.000326  0.000232  0.000299  \n",
       "F     0.000411  0.000219  0.000402  \n",
       "GME   0.000309  0.000266  0.000713  \n",
       "GOOG  0.000263  0.000324  0.000364  \n",
       "MS    0.000557  0.000268  0.000322  \n",
       "MSFT  0.000268  0.000400  0.000404  \n",
       "TSLA  0.000322  0.000404  0.001766  "
      ]
     },
     "execution_count": 5,
     "metadata": {},
     "output_type": "execute_result"
    }
   ],
   "source": [
    "cov_matrix"
   ]
  },
  {
   "cell_type": "code",
   "execution_count": 6,
   "metadata": {},
   "outputs": [
    {
     "data": {
      "text/plain": [
       "AAPL    0.001564\n",
       "AMZN    0.000401\n",
       "C       0.000307\n",
       "DIS     0.000099\n",
       "F       0.001031\n",
       "GME     0.006330\n",
       "GOOG    0.000786\n",
       "MS      0.001195\n",
       "MSFT    0.001136\n",
       "TSLA    0.003058\n",
       "dtype: float64"
      ]
     },
     "execution_count": 6,
     "metadata": {},
     "output_type": "execute_result"
    }
   ],
   "source": [
    "#Expected return(mean)\n",
    "avg_returns"
   ]
  },
  {
   "cell_type": "code",
   "execution_count": 7,
   "metadata": {},
   "outputs": [
    {
     "data": {
      "text/plain": [
       "AAPL    993\n",
       "AMZN    993\n",
       "C       993\n",
       "DIS     993\n",
       "F       993\n",
       "GME     993\n",
       "GOOG    993\n",
       "MS      993\n",
       "MSFT    993\n",
       "TSLA    993\n",
       "dtype: int64"
      ]
     },
     "execution_count": 7,
     "metadata": {},
     "output_type": "execute_result"
    }
   ],
   "source": [
    "#Count how many returns of each stock\n",
    "count=returns.count()\n",
    "count"
   ]
  },
  {
   "cell_type": "code",
   "execution_count": 8,
   "metadata": {},
   "outputs": [
    {
     "data": {
      "text/plain": [
       "array([0.06469181, 0.43597269, 0.40618155, 0.64006977, 0.70433079,\n",
       "       0.77017729, 0.27891178, 0.41234083, 0.41902321, 0.26483871])"
      ]
     },
     "execution_count": 8,
     "metadata": {},
     "output_type": "execute_result"
    }
   ],
   "source": [
    "weights = np.random.random(len(returns.columns))\n",
    "weights"
   ]
  },
  {
   "cell_type": "code",
   "execution_count": 9,
   "metadata": {},
   "outputs": [
    {
     "data": {
      "text/plain": [
       "array([0.01471426, 0.09916272, 0.09238667, 0.14558494, 0.16020121,\n",
       "       0.17517811, 0.06343895, 0.09378761, 0.09530753, 0.06023801])"
      ]
     },
     "execution_count": 9,
     "metadata": {},
     "output_type": "execute_result"
    }
   ],
   "source": [
    "weights = weights/np.sum(weights)\n",
    "weights"
   ]
  },
  {
   "cell_type": "code",
   "execution_count": 10,
   "metadata": {},
   "outputs": [],
   "source": [
    "# Portfolio Performance\n",
    "def portfolioPerformance(weights, mean_Returns, cov_Matrix):\n",
    "    \n",
    "    port_mean = (mean_Returns@weights)\n",
    "    \n",
    "    port_std = np.sqrt((weights.T@cov_Matrix@weights)) \n",
    "    \n",
    "    return port_mean, port_std"
   ]
  },
  {
   "cell_type": "code",
   "execution_count": 11,
   "metadata": {},
   "outputs": [
    {
     "data": {
      "text/plain": [
       "0.02577476963376967"
      ]
     },
     "execution_count": 11,
     "metadata": {},
     "output_type": "execute_result"
    }
   ],
   "source": [
    "Time=100\n",
    "\n",
    "port_mean,port_std=portfolioPerformance(weights, avg_returns, cov_matrix)\n",
    "port_std"
   ]
  },
  {
   "cell_type": "code",
   "execution_count": 12,
   "metadata": {},
   "outputs": [
    {
     "data": {
      "text/plain": [
       "0.0018341441150778947"
      ]
     },
     "execution_count": 12,
     "metadata": {},
     "output_type": "execute_result"
    }
   ],
   "source": [
    "port_mean"
   ]
  },
  {
   "cell_type": "code",
   "execution_count": 13,
   "metadata": {},
   "outputs": [
    {
     "data": {
      "text/plain": [
       "0.02577476963376967"
      ]
     },
     "execution_count": 13,
     "metadata": {},
     "output_type": "execute_result"
    }
   ],
   "source": [
    "port_std"
   ]
  },
  {
   "cell_type": "code",
   "execution_count": 14,
   "metadata": {},
   "outputs": [],
   "source": [
    "#If you want 90% VaR, you should enter alpha=10\n",
    "#If you want 99% VaR, you should enter alpha=1\n",
    "def var_parametric(port_mean, port_std, Time, distribution='normal', alpha=5):\n",
    "    \n",
    "    # because the distribution is symmetric\n",
    "    if distribution == 'normal':\n",
    "        VaR = (norm.ppf(alpha/100,port_mean,port_std))*np.sqrt(Time)\n",
    "    \n",
    "    else:\n",
    "        raise TypeError(\"Expected distribution type 'normal'\")\n",
    "    \n",
    "    return VaR"
   ]
  },
  {
   "cell_type": "code",
   "execution_count": 15,
   "metadata": {},
   "outputs": [
    {
     "data": {
      "text/plain": [
       "-0.4056157920086684"
      ]
     },
     "execution_count": 15,
     "metadata": {},
     "output_type": "execute_result"
    }
   ],
   "source": [
    "VaR =var_parametric(port_mean, port_std,Time)\n",
    "VaR"
   ]
  },
  {
   "cell_type": "code",
   "execution_count": 16,
   "metadata": {},
   "outputs": [
    {
     "data": {
      "text/plain": [
       "-0.4056157920086684"
      ]
     },
     "execution_count": 16,
     "metadata": {},
     "output_type": "execute_result"
    }
   ],
   "source": [
    "norm.ppf(0.05,port_mean,port_std)*np.sqrt(Time)"
   ]
  },
  {
   "cell_type": "code",
   "execution_count": 17,
   "metadata": {},
   "outputs": [
    {
     "name": "stdout",
     "output_type": "stream",
     "text": [
      "Normal VaR 95th CI       :       4056.16\n"
     ]
    }
   ],
   "source": [
    "InitialInvestment = 10000\n",
    "print(\"Normal VaR 95th CI       :      \", round(InitialInvestment*-VaR,2))"
   ]
  },
  {
   "cell_type": "code",
   "execution_count": 18,
   "metadata": {},
   "outputs": [
    {
     "data": {
      "text/plain": [
       "0.9494974165258963"
      ]
     },
     "execution_count": 18,
     "metadata": {},
     "output_type": "execute_result"
    }
   ],
   "source": [
    "norm.cdf(1.64)"
   ]
  },
  {
   "cell_type": "code",
   "execution_count": 19,
   "metadata": {},
   "outputs": [
    {
     "data": {
      "text/plain": [
       "1.6448536269514722"
      ]
     },
     "execution_count": 19,
     "metadata": {},
     "output_type": "execute_result"
    }
   ],
   "source": [
    "norm.ppf(0.95)"
   ]
  },
  {
   "cell_type": "code",
   "execution_count": 20,
   "metadata": {},
   "outputs": [],
   "source": [
    "#Confidence interval\n",
    "def CI(port_mean, port_std,n,alpha=5):\n",
    "    lower=port_mean-norm.ppf(1-alpha/100)*port_std/np.sqrt(n)\n",
    "    higher=port_mean+norm.ppf(1-alpha/100)*port_std/np.sqrt(n)\n",
    "    return lower, higher"
   ]
  },
  {
   "cell_type": "code",
   "execution_count": 21,
   "metadata": {},
   "outputs": [
    {
     "data": {
      "text/plain": [
       "0.0004887565016763898"
      ]
     },
     "execution_count": 21,
     "metadata": {},
     "output_type": "execute_result"
    }
   ],
   "source": [
    "lower,higher=CI(port_mean, port_std,count[0],alpha=5)\n",
    "lower"
   ]
  },
  {
   "cell_type": "code",
   "execution_count": 22,
   "metadata": {},
   "outputs": [
    {
     "data": {
      "text/plain": [
       "0.0031795317284793994"
      ]
     },
     "execution_count": 22,
     "metadata": {},
     "output_type": "execute_result"
    }
   ],
   "source": [
    "higher"
   ]
  },
  {
   "cell_type": "code",
   "execution_count": 23,
   "metadata": {},
   "outputs": [
    {
     "name": "stdout",
     "output_type": "stream",
     "text": [
      "We are 95% confidence that the daily return of our portfolio will be between 0.05 % and 0.32 %\n"
     ]
    }
   ],
   "source": [
    "print(\"We are 95% confidence that the daily return of our portfolio will be between\", round(lower*100,2), '% and', round(higher*100,2),'%')"
   ]
  }
 ],
 "metadata": {
  "kernelspec": {
   "display_name": "Python 3",
   "language": "python",
   "name": "python3"
  },
  "language_info": {
   "codemirror_mode": {
    "name": "ipython",
    "version": 3
   },
   "file_extension": ".py",
   "mimetype": "text/x-python",
   "name": "python",
   "nbconvert_exporter": "python",
   "pygments_lexer": "ipython3",
   "version": "3.8.5"
  }
 },
 "nbformat": 4,
 "nbformat_minor": 4
}
