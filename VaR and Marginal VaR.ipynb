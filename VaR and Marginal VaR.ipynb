{
 "cells": [
  {
   "cell_type": "code",
   "execution_count": 1,
   "metadata": {},
   "outputs": [],
   "source": [
    "import pandas as pd\n",
    "import numpy as np\n",
    "import math\n",
    "import matplotlib.pyplot as plt\n",
    "from scipy.stats import norm"
   ]
  },
  {
   "cell_type": "code",
   "execution_count": 2,
   "metadata": {},
   "outputs": [],
   "source": [
    "#If you want 90% VaR, you should enter cl=0.9\n",
    "#If you want 99% VaR, you should enter cl=0.99\n",
    "#Historical method\n",
    "def historicalVaR(returns, weights, cl=0.95):\n",
    "    \"\"\"\n",
    "    Calculate Historical Value at Risk (VaR) at a given confidence level using historical simulation.\n",
    "\n",
    "    Parameters:\n",
    "    - returns: pd.DataFrame of asset returns (rows = time, columns = assets)\n",
    "    - weights: np.array of portfolio weights (1D or 2D)\n",
    "    - cl: confidence level percentile (e.g., 0.95 for 95% VaR)\n",
    "\n",
    "    Returns:\n",
    "    - float: VaR value (typically negative, indicating potential loss)\n",
    "    \"\"\"\n",
    "    # Ensure weights is a column vector (2D shape: n x 1)\n",
    "    #if weights.ndim == 1:\n",
    "    #    weights = weights.reshape(-1, 1)\n",
    "\n",
    "    # Portfolio returns (dot product of return matrix and weight vector)\n",
    "    port_returns = (returns @ weights).squeeze()  # result is (T, 1) → squeeze to 1D\n",
    "    \n",
    "    # Remove any NaN values from the portfolio returns before sorting\n",
    "    port_returns = port_returns[~np.isnan(port_returns)]\n",
    "    \n",
    "    #Sort the values from the lowest to the highest\n",
    "    sorted_returns = np.sort(port_returns) \n",
    "    \n",
    "    pos = (len(sorted_returns) - 1) *(1 -cl)\n",
    "    lower_idx = int(np.floor(pos))\n",
    "    upper_idx = int(np.ceil(pos))\n",
    "    weight = pos - lower_idx\n",
    "    \n",
    "    var_pct = (1 - weight) * sorted_returns[lower_idx] + weight * sorted_returns[upper_idx]\n",
    "    #var_pct= np.percentile(port_returns, （1- cl)*100)\n",
    "    \n",
    "    return var_pct\n",
    "\n",
    "# Variance covariance method\n",
    "# Portfolio Performance\n",
    "def portfolioPerformance(weights, mean_Returns, cov_Matrix):\n",
    "    \n",
    "    port_mean = (mean_Returns@weights)\n",
    "    \n",
    "    port_std = np.sqrt((weights.T@cov_Matrix@weights)) \n",
    "    \n",
    "    return [port_mean, port_std]\n",
    "\n",
    "#If you want 90% VaR, you should enter alpha=10\n",
    "#If you want 99% VaR, you should enter alpha=1\n",
    "def var_parametric(port_mean, port_std,  distribution='normal', alpha=5):\n",
    "    \n",
    "    # because the distribution is symmetric\n",
    "     if distribution == 'normal':\n",
    "        # norm.ppf(alpha/100) returns a negative value (e.g., -1.645 for 95% VaR)\n",
    "        var = norm.ppf(alpha / 100, loc=port_mean, scale=port_std)\n",
    "        \n",
    "        return var\n",
    "    \n",
    "     else:\n",
    "        raise TypeError(\"Expected distribution type 'normal'\")\n",
    "        \n",
    "\n",
    "# Monte Carlos method\n",
    "def var_mc(returns_mean,returns_cov,Weight_list,nsim=20000,alpha=5):\n",
    "    \n",
    "    #Reshapes it into a column vector \n",
    "    #weights = np.array(Weight_list).reshape(-1, 1)\n",
    "    \n",
    "     # Simulate nsim scenarios of asset returns\n",
    "    rand_normal_dist = np.random.multivariate_normal(returns_mean, returns_cov, nsim)\n",
    "\n",
    "      # Simulate portfolio returns\n",
    "    port_returns = (rand_normal_dist @ Weight_list).squeeze()  # shape (nsim,)\n",
    "\n",
    "    # Drop missing values and calculate the alpha percentile\n",
    "    return np.percentile(port_returns, alpha)\n",
    "    \n",
    "def stat_port(returns):\n",
    "    returns_means = returns.mean()\n",
    "    returns_std = returns.std()\n",
    "    returns_cov = returns.cov()\n",
    "    returns_corr = returns.corr()\n",
    "    return [returns_means,returns_std,returns_cov,returns_corr]"
   ]
  },
  {
   "cell_type": "code",
   "execution_count": 3,
   "metadata": {
    "scrolled": true
   },
   "outputs": [],
   "source": [
    "# Read a specific sheet by index (e.g., 0 for the first sheet)\n",
    "returns = pd.read_excel('Global Equity Price Change.xlsx', sheet_name=0)\n",
    "df_weight = pd.read_excel('Global Equity Price Change.xlsx', sheet_name=1)"
   ]
  },
  {
   "cell_type": "code",
   "execution_count": 4,
   "metadata": {
    "scrolled": true
   },
   "outputs": [
    {
     "data": {
      "text/plain": [
       "['NVDA', 'NEE', 'ASML', 'SCHW', 'UNH']"
      ]
     },
     "execution_count": 4,
     "metadata": {},
     "output_type": "execute_result"
    }
   ],
   "source": [
    "row_slice = returns.columns.tolist()[1:]\n",
    "row_slice[0:5]"
   ]
  },
  {
   "cell_type": "code",
   "execution_count": 5,
   "metadata": {},
   "outputs": [
    {
     "data": {
      "text/plain": [
       "['NVDA', 'NEE', 'ASML', 'SCHW', 'UNH']"
      ]
     },
     "execution_count": 5,
     "metadata": {},
     "output_type": "execute_result"
    }
   ],
   "source": [
    "col_slice = df_weight.iloc[:, 0].tolist()\n",
    "col_slice[0:5]"
   ]
  },
  {
   "cell_type": "code",
   "execution_count": 6,
   "metadata": {},
   "outputs": [
    {
     "data": {
      "text/plain": [
       "True"
      ]
     },
     "execution_count": 6,
     "metadata": {},
     "output_type": "execute_result"
    }
   ],
   "source": [
    "#Check both pages have the same companies\n",
    "row_slice==col_slice"
   ]
  },
  {
   "cell_type": "code",
   "execution_count": 7,
   "metadata": {},
   "outputs": [],
   "source": [
    "df_weight['Market_Value'] = df_weight['Price'] * df_weight['Quantity']"
   ]
  },
  {
   "cell_type": "code",
   "execution_count": 8,
   "metadata": {},
   "outputs": [
    {
     "data": {
      "text/plain": [
       "0    7098500.0\n",
       "1    5234600.0\n",
       "2    4109400.0\n",
       "3    6272448.0\n",
       "4    2414181.0\n",
       "Name: Market_Value, dtype: float64"
      ]
     },
     "execution_count": 8,
     "metadata": {},
     "output_type": "execute_result"
    }
   ],
   "source": [
    "df_weight['Market_Value'].head()"
   ]
  },
  {
   "cell_type": "code",
   "execution_count": 9,
   "metadata": {},
   "outputs": [
    {
     "data": {
      "text/plain": [
       "77002272.0"
      ]
     },
     "execution_count": 9,
     "metadata": {},
     "output_type": "execute_result"
    }
   ],
   "source": [
    "df_total= df_weight['Market_Value'].sum()\n",
    "df_total"
   ]
  },
  {
   "cell_type": "code",
   "execution_count": 10,
   "metadata": {},
   "outputs": [
    {
     "data": {
      "text/plain": [
       "0    0.092186\n",
       "1    0.067980\n",
       "2    0.053367\n",
       "3    0.081458\n",
       "4    0.031352\n",
       "Name: Weights, dtype: float64"
      ]
     },
     "execution_count": 10,
     "metadata": {},
     "output_type": "execute_result"
    }
   ],
   "source": [
    "df_weight['Weights'] = df_weight['Market_Value']/df_total\n",
    "df_weight['Weights'].head()"
   ]
  },
  {
   "cell_type": "code",
   "execution_count": 11,
   "metadata": {},
   "outputs": [
    {
     "data": {
      "text/plain": [
       "array([0.09218559, 0.06797981, 0.05336726, 0.08145796, 0.03135207])"
      ]
     },
     "execution_count": 11,
     "metadata": {},
     "output_type": "execute_result"
    }
   ],
   "source": [
    "Weight_list= np.array(df_weight['Weights'])\n",
    "Weight_list[0:5]"
   ]
  },
  {
   "cell_type": "code",
   "execution_count": 12,
   "metadata": {},
   "outputs": [
    {
     "data": {
      "text/html": [
       "<div>\n",
       "<style scoped>\n",
       "    .dataframe tbody tr th:only-of-type {\n",
       "        vertical-align: middle;\n",
       "    }\n",
       "\n",
       "    .dataframe tbody tr th {\n",
       "        vertical-align: top;\n",
       "    }\n",
       "\n",
       "    .dataframe thead th {\n",
       "        text-align: right;\n",
       "    }\n",
       "</style>\n",
       "<table border=\"1\" class=\"dataframe\">\n",
       "  <thead>\n",
       "    <tr style=\"text-align: right;\">\n",
       "      <th></th>\n",
       "      <th>NVDA</th>\n",
       "      <th>NEE</th>\n",
       "      <th>ASML</th>\n",
       "      <th>SCHW</th>\n",
       "      <th>UNH</th>\n",
       "      <th>LOW</th>\n",
       "      <th>OXY</th>\n",
       "      <th>WFC</th>\n",
       "      <th>BUD</th>\n",
       "      <th>ADBE</th>\n",
       "      <th>...</th>\n",
       "      <th>PEP</th>\n",
       "      <th>LIN</th>\n",
       "      <th>SAP</th>\n",
       "      <th>GOOGL</th>\n",
       "      <th>WMG</th>\n",
       "      <th>SNOW</th>\n",
       "      <th>DIS</th>\n",
       "      <th>TEL</th>\n",
       "      <th>SYY</th>\n",
       "      <th>WM</th>\n",
       "    </tr>\n",
       "    <tr>\n",
       "      <th>Date</th>\n",
       "      <th></th>\n",
       "      <th></th>\n",
       "      <th></th>\n",
       "      <th></th>\n",
       "      <th></th>\n",
       "      <th></th>\n",
       "      <th></th>\n",
       "      <th></th>\n",
       "      <th></th>\n",
       "      <th></th>\n",
       "      <th></th>\n",
       "      <th></th>\n",
       "      <th></th>\n",
       "      <th></th>\n",
       "      <th></th>\n",
       "      <th></th>\n",
       "      <th></th>\n",
       "      <th></th>\n",
       "      <th></th>\n",
       "      <th></th>\n",
       "      <th></th>\n",
       "    </tr>\n",
       "  </thead>\n",
       "  <tbody>\n",
       "    <tr>\n",
       "      <th>2021-09-10</th>\n",
       "      <td>0.013573</td>\n",
       "      <td>-0.010601</td>\n",
       "      <td>0.006292</td>\n",
       "      <td>-0.012305</td>\n",
       "      <td>-0.022246</td>\n",
       "      <td>0.006502</td>\n",
       "      <td>-0.003590</td>\n",
       "      <td>-0.000676</td>\n",
       "      <td>-0.008804</td>\n",
       "      <td>-0.004141</td>\n",
       "      <td>...</td>\n",
       "      <td>-0.001734</td>\n",
       "      <td>-0.007227</td>\n",
       "      <td>-0.004187</td>\n",
       "      <td>-0.018566</td>\n",
       "      <td>0.000000</td>\n",
       "      <td>-0.004469</td>\n",
       "      <td>-0.009628</td>\n",
       "      <td>-0.002538</td>\n",
       "      <td>-0.018084</td>\n",
       "      <td>0.004226</td>\n",
       "    </tr>\n",
       "    <tr>\n",
       "      <th>2021-09-13</th>\n",
       "      <td>-0.014503</td>\n",
       "      <td>-0.004121</td>\n",
       "      <td>0.014403</td>\n",
       "      <td>0.006299</td>\n",
       "      <td>0.026268</td>\n",
       "      <td>0.008418</td>\n",
       "      <td>0.066853</td>\n",
       "      <td>0.032258</td>\n",
       "      <td>0.017938</td>\n",
       "      <td>-0.020928</td>\n",
       "      <td>...</td>\n",
       "      <td>0.001930</td>\n",
       "      <td>0.009857</td>\n",
       "      <td>0.001379</td>\n",
       "      <td>0.010339</td>\n",
       "      <td>0.001000</td>\n",
       "      <td>-0.000283</td>\n",
       "      <td>0.004671</td>\n",
       "      <td>0.006465</td>\n",
       "      <td>0.004049</td>\n",
       "      <td>0.004403</td>\n",
       "    </tr>\n",
       "    <tr>\n",
       "      <th>2021-09-14</th>\n",
       "      <td>0.004063</td>\n",
       "      <td>0.000709</td>\n",
       "      <td>0.019317</td>\n",
       "      <td>-0.030046</td>\n",
       "      <td>-0.004777</td>\n",
       "      <td>-0.009124</td>\n",
       "      <td>-0.013884</td>\n",
       "      <td>0.006337</td>\n",
       "      <td>-0.020701</td>\n",
       "      <td>-0.000217</td>\n",
       "      <td>...</td>\n",
       "      <td>-0.003916</td>\n",
       "      <td>-0.004976</td>\n",
       "      <td>-0.000826</td>\n",
       "      <td>0.001489</td>\n",
       "      <td>0.028472</td>\n",
       "      <td>0.002512</td>\n",
       "      <td>-0.013947</td>\n",
       "      <td>-0.010933</td>\n",
       "      <td>-0.014180</td>\n",
       "      <td>-0.003545</td>\n",
       "    </tr>\n",
       "    <tr>\n",
       "      <th>2021-09-15</th>\n",
       "      <td>0.004451</td>\n",
       "      <td>-0.000354</td>\n",
       "      <td>0.001419</td>\n",
       "      <td>0.020364</td>\n",
       "      <td>0.012072</td>\n",
       "      <td>0.007053</td>\n",
       "      <td>0.060883</td>\n",
       "      <td>0.012812</td>\n",
       "      <td>-0.001223</td>\n",
       "      <td>0.024914</td>\n",
       "      <td>...</td>\n",
       "      <td>0.005607</td>\n",
       "      <td>0.008303</td>\n",
       "      <td>-0.006200</td>\n",
       "      <td>0.013224</td>\n",
       "      <td>-0.017241</td>\n",
       "      <td>0.015129</td>\n",
       "      <td>0.011020</td>\n",
       "      <td>0.001796</td>\n",
       "      <td>0.006466</td>\n",
       "      <td>0.006793</td>\n",
       "    </tr>\n",
       "    <tr>\n",
       "      <th>2021-09-16</th>\n",
       "      <td>-0.004431</td>\n",
       "      <td>-0.007210</td>\n",
       "      <td>-0.002271</td>\n",
       "      <td>-0.005200</td>\n",
       "      <td>-0.001629</td>\n",
       "      <td>0.013958</td>\n",
       "      <td>-0.019727</td>\n",
       "      <td>-0.007719</td>\n",
       "      <td>0.003848</td>\n",
       "      <td>0.006096</td>\n",
       "      <td>...</td>\n",
       "      <td>-0.002948</td>\n",
       "      <td>-0.004610</td>\n",
       "      <td>0.004229</td>\n",
       "      <td>-0.005674</td>\n",
       "      <td>0.000247</td>\n",
       "      <td>-0.001728</td>\n",
       "      <td>-0.005802</td>\n",
       "      <td>-0.008345</td>\n",
       "      <td>0.006425</td>\n",
       "      <td>-0.011180</td>\n",
       "    </tr>\n",
       "  </tbody>\n",
       "</table>\n",
       "<p>5 rows × 23 columns</p>\n",
       "</div>"
      ],
      "text/plain": [
       "                NVDA       NEE      ASML      SCHW       UNH       LOW  \\\n",
       "Date                                                                     \n",
       "2021-09-10  0.013573 -0.010601  0.006292 -0.012305 -0.022246  0.006502   \n",
       "2021-09-13 -0.014503 -0.004121  0.014403  0.006299  0.026268  0.008418   \n",
       "2021-09-14  0.004063  0.000709  0.019317 -0.030046 -0.004777 -0.009124   \n",
       "2021-09-15  0.004451 -0.000354  0.001419  0.020364  0.012072  0.007053   \n",
       "2021-09-16 -0.004431 -0.007210 -0.002271 -0.005200 -0.001629  0.013958   \n",
       "\n",
       "                 OXY       WFC       BUD      ADBE  ...       PEP       LIN  \\\n",
       "Date                                                ...                       \n",
       "2021-09-10 -0.003590 -0.000676 -0.008804 -0.004141  ... -0.001734 -0.007227   \n",
       "2021-09-13  0.066853  0.032258  0.017938 -0.020928  ...  0.001930  0.009857   \n",
       "2021-09-14 -0.013884  0.006337 -0.020701 -0.000217  ... -0.003916 -0.004976   \n",
       "2021-09-15  0.060883  0.012812 -0.001223  0.024914  ...  0.005607  0.008303   \n",
       "2021-09-16 -0.019727 -0.007719  0.003848  0.006096  ... -0.002948 -0.004610   \n",
       "\n",
       "                 SAP     GOOGL       WMG      SNOW       DIS       TEL  \\\n",
       "Date                                                                     \n",
       "2021-09-10 -0.004187 -0.018566  0.000000 -0.004469 -0.009628 -0.002538   \n",
       "2021-09-13  0.001379  0.010339  0.001000 -0.000283  0.004671  0.006465   \n",
       "2021-09-14 -0.000826  0.001489  0.028472  0.002512 -0.013947 -0.010933   \n",
       "2021-09-15 -0.006200  0.013224 -0.017241  0.015129  0.011020  0.001796   \n",
       "2021-09-16  0.004229 -0.005674  0.000247 -0.001728 -0.005802 -0.008345   \n",
       "\n",
       "                 SYY        WM  \n",
       "Date                            \n",
       "2021-09-10 -0.018084  0.004226  \n",
       "2021-09-13  0.004049  0.004403  \n",
       "2021-09-14 -0.014180 -0.003545  \n",
       "2021-09-15  0.006466  0.006793  \n",
       "2021-09-16  0.006425 -0.011180  \n",
       "\n",
       "[5 rows x 23 columns]"
      ]
     },
     "execution_count": 12,
     "metadata": {},
     "output_type": "execute_result"
    }
   ],
   "source": [
    "# Set the dates become the index\n",
    "returns.set_index('Date', inplace=True)\n",
    "\n",
    "# Convert all values in the DataFrame to numeric.\n",
    "# If a value cannot be converted (e.g., a string), it will be replaced with NaN.\n",
    "returns = returns.apply(pd.to_numeric, errors='coerce')\n",
    "returns=returns/100\n",
    "returns.head()"
   ]
  },
  {
   "cell_type": "code",
   "execution_count": 13,
   "metadata": {},
   "outputs": [
    {
     "data": {
      "text/plain": [
       "934"
      ]
     },
     "execution_count": 13,
     "metadata": {},
     "output_type": "execute_result"
    }
   ],
   "source": [
    "returns.shape[0]"
   ]
  },
  {
   "cell_type": "code",
   "execution_count": 14,
   "metadata": {},
   "outputs": [],
   "source": [
    "VaR_list=[]"
   ]
  },
  {
   "cell_type": "markdown",
   "metadata": {},
   "source": [
    "### Historical VaR method"
   ]
  },
  {
   "cell_type": "code",
   "execution_count": 15,
   "metadata": {},
   "outputs": [
    {
     "data": {
      "text/plain": [
       "-0.02081857399903732"
      ]
     },
     "execution_count": 15,
     "metadata": {},
     "output_type": "execute_result"
    }
   ],
   "source": [
    "hVaR=historicalVaR(returns, Weight_list, cl=0.95) \n",
    "hVaR"
   ]
  },
  {
   "cell_type": "code",
   "execution_count": 16,
   "metadata": {},
   "outputs": [
    {
     "name": "stdout",
     "output_type": "stream",
     "text": [
      "Value at Risk 95th CI    :   $-1,603,077.50\n"
     ]
    }
   ],
   "source": [
    "InitialInvestment = df_total\n",
    "VaR_hist=InitialInvestment*hVaR\n",
    "print(f'Value at Risk 95th CI    :   ${VaR_hist:,.2f}')"
   ]
  },
  {
   "cell_type": "code",
   "execution_count": 17,
   "metadata": {},
   "outputs": [],
   "source": [
    "VaR_list.append(VaR_hist)"
   ]
  },
  {
   "cell_type": "markdown",
   "metadata": {},
   "source": [
    "### Variance Covariance Method"
   ]
  },
  {
   "cell_type": "code",
   "execution_count": 18,
   "metadata": {},
   "outputs": [
    {
     "data": {
      "text/plain": [
       "(0.0005268623839305446, 0.013383821372994625)"
      ]
     },
     "execution_count": 18,
     "metadata": {},
     "output_type": "execute_result"
    }
   ],
   "source": [
    "port_mean,port_std=portfolioPerformance(Weight_list, stat_port(returns)[0], stat_port(returns)[2])\n",
    "port_mean,port_std"
   ]
  },
  {
   "cell_type": "code",
   "execution_count": 19,
   "metadata": {},
   "outputs": [
    {
     "data": {
      "text/plain": [
       "-0.02148756474391031"
      ]
     },
     "execution_count": 19,
     "metadata": {},
     "output_type": "execute_result"
    }
   ],
   "source": [
    "VaR_pa=var_parametric(port_mean, port_std, distribution='normal', alpha=5)\n",
    "VaR_pa"
   ]
  },
  {
   "cell_type": "code",
   "execution_count": 20,
   "metadata": {},
   "outputs": [
    {
     "name": "stdout",
     "output_type": "stream",
     "text": [
      "Normal VaR 95th CI       :    $-1,654,591.31\n"
     ]
    }
   ],
   "source": [
    "VaR_para = InitialInvestment*VaR_pa\n",
    "print(f'Normal VaR 95th CI       :    ${VaR_para:,.2f}')"
   ]
  },
  {
   "cell_type": "code",
   "execution_count": 21,
   "metadata": {},
   "outputs": [
    {
     "data": {
      "text/plain": [
       "[-1603077.4977259997, -1654591.305028192]"
      ]
     },
     "execution_count": 21,
     "metadata": {},
     "output_type": "execute_result"
    }
   ],
   "source": [
    "VaR_list.append(VaR_para)\n",
    "VaR_list"
   ]
  },
  {
   "cell_type": "markdown",
   "metadata": {},
   "source": [
    "### Monte Carlos method"
   ]
  },
  {
   "cell_type": "code",
   "execution_count": 22,
   "metadata": {},
   "outputs": [],
   "source": [
    "VaR_MC=var_mc(stat_port(returns)[0],stat_port(returns)[2],Weight_list,nsim=20000,alpha=5)"
   ]
  },
  {
   "cell_type": "code",
   "execution_count": 23,
   "metadata": {},
   "outputs": [
    {
     "name": "stdout",
     "output_type": "stream",
     "text": [
      "Value at Risk 95th CI    :     $-1,639,127.25\n"
     ]
    }
   ],
   "source": [
    "VaR_mc = InitialInvestment*VaR_MC\n",
    "print(f'Value at Risk 95th CI    :     ${VaR_mc:,.2f}')"
   ]
  },
  {
   "cell_type": "code",
   "execution_count": 24,
   "metadata": {},
   "outputs": [],
   "source": [
    "VaR_list.append(VaR_mc)"
   ]
  },
  {
   "cell_type": "markdown",
   "metadata": {},
   "source": [
    "### Average VaR of 3 methods"
   ]
  },
  {
   "cell_type": "code",
   "execution_count": 25,
   "metadata": {},
   "outputs": [
    {
     "data": {
      "text/plain": [
       "[-1603077.4977259997, -1654591.305028192, -1639127.2530295798]"
      ]
     },
     "execution_count": 25,
     "metadata": {},
     "output_type": "execute_result"
    }
   ],
   "source": [
    "VaR_list"
   ]
  },
  {
   "cell_type": "code",
   "execution_count": 26,
   "metadata": {},
   "outputs": [
    {
     "name": "stdout",
     "output_type": "stream",
     "text": [
      "The average of 3 mothods Value at Risk 95th CI    :     $-1,632,265.35\n"
     ]
    }
   ],
   "source": [
    "VaR_avg=sum(VaR_list)/len(VaR_list)\n",
    "print(f'The average of 3 mothods Value at Risk 95th CI    :     ${VaR_avg:,.2f}')"
   ]
  },
  {
   "cell_type": "markdown",
   "metadata": {},
   "source": [
    "### Marginal VaR"
   ]
  },
  {
   "cell_type": "markdown",
   "metadata": {},
   "source": [
    "\n",
    " ### 📊 In Practice: Marginal VaR (Leave-One-Out Approximation)\n",
    "\n",
    "When analytical derivatives are not available, Marginal VaR can be approximated using the \"leave-one-out\" method:\n",
    "\n",
    "$$\n",
    "\\text{Marginal VaR}_i \\approx \\frac{\\text{VaR}_{\\text{portfolio}} - \\text{VaR}_{\\text{portfolio without asset } i}}{\\text{Market Value}_i}\n",
    "$$\n",
    "\n",
    "This measures how much the total portfolio VaR would decrease if a single asset were removed, normalized by that asset’s market value.\n",
    "\n",
    "✅ A **high Marginal VaR** means the asset increases portfolio risk.  \n",
    "✅ A **low or negative Marginal VaR** means the asset reduces risk (diversifies the portfolio).\n",
    "\n"
   ]
  },
  {
   "cell_type": "markdown",
   "metadata": {},
   "source": [
    "### Marginal VaR with each asset"
   ]
  },
  {
   "cell_type": "code",
   "execution_count": 27,
   "metadata": {},
   "outputs": [],
   "source": [
    "df_weight1=df_weight.copy(deep=True)"
   ]
  },
  {
   "cell_type": "code",
   "execution_count": 28,
   "metadata": {},
   "outputs": [],
   "source": [
    "eqty_list=[]\n",
    "Marginal_VaR_list=[]\n",
    "for eqty in df_weight1['Company']:\n",
    "    \n",
    "    eqty_market_val = df_weight1.loc[df_weight1['Company'] == eqty,'Market_Value'].iloc[0]\n",
    "    market_val_left = df_total - eqty_market_val\n",
    "    \n",
    "    df_left = df_weight1.loc[df_weight1['Company']!= eqty].copy()\n",
    "    df_left['New_weight'] = df_left['Market_Value']/market_val_left\n",
    "    df_left_weight = np.array(df_left['New_weight'])\n",
    "    df_left_returns=returns.drop(eqty,axis=1).copy(deep=True)\n",
    "    stats = stat_port(df_left_returns)\n",
    "    \n",
    "    port_performance= portfolioPerformance(df_left_weight, stats[0], stats[2])\n",
    "    VaR_para_new = var_parametric(port_performance[0], port_performance[1],  distribution='normal', alpha=5)*market_val_left\n",
    "    VaR_his_new = historicalVaR(df_left_returns,df_left_weight, cl=0.95)*market_val_left\n",
    "    VaR_mc_new = var_mc(stats[0],stats[2],df_left_weight,nsim=20000,alpha=5)*market_val_left\n",
    "    \n",
    "    VaR_avg_new = (VaR_para_new+VaR_his_new+VaR_mc_new)/3\n",
    "    Marginal_VaR= (VaR_avg - VaR_avg_new)/eqty_market_val\n",
    "    eqty_list.append(eqty)\n",
    "    Marginal_VaR_list.append(Marginal_VaR)"
   ]
  },
  {
   "cell_type": "code",
   "execution_count": 29,
   "metadata": {
    "scrolled": true
   },
   "outputs": [
    {
     "data": {
      "text/html": [
       "<div>\n",
       "<style scoped>\n",
       "    .dataframe tbody tr th:only-of-type {\n",
       "        vertical-align: middle;\n",
       "    }\n",
       "\n",
       "    .dataframe tbody tr th {\n",
       "        vertical-align: top;\n",
       "    }\n",
       "\n",
       "    .dataframe thead th {\n",
       "        text-align: right;\n",
       "    }\n",
       "</style>\n",
       "<table border=\"1\" class=\"dataframe\">\n",
       "  <thead>\n",
       "    <tr style=\"text-align: right;\">\n",
       "      <th></th>\n",
       "      <th>Company</th>\n",
       "      <th>Marginal VaR</th>\n",
       "    </tr>\n",
       "  </thead>\n",
       "  <tbody>\n",
       "    <tr>\n",
       "      <th>18</th>\n",
       "      <td>SNOW</td>\n",
       "      <td>-0.038986</td>\n",
       "    </tr>\n",
       "    <tr>\n",
       "      <th>0</th>\n",
       "      <td>NVDA</td>\n",
       "      <td>-0.037317</td>\n",
       "    </tr>\n",
       "    <tr>\n",
       "      <th>2</th>\n",
       "      <td>ASML</td>\n",
       "      <td>-0.032670</td>\n",
       "    </tr>\n",
       "    <tr>\n",
       "      <th>11</th>\n",
       "      <td>MU</td>\n",
       "      <td>-0.030130</td>\n",
       "    </tr>\n",
       "    <tr>\n",
       "      <th>9</th>\n",
       "      <td>ADBE</td>\n",
       "      <td>-0.025035</td>\n",
       "    </tr>\n",
       "    <tr>\n",
       "      <th>16</th>\n",
       "      <td>GOOGL</td>\n",
       "      <td>-0.021461</td>\n",
       "    </tr>\n",
       "    <tr>\n",
       "      <th>7</th>\n",
       "      <td>WFC</td>\n",
       "      <td>-0.019959</td>\n",
       "    </tr>\n",
       "    <tr>\n",
       "      <th>19</th>\n",
       "      <td>DIS</td>\n",
       "      <td>-0.019577</td>\n",
       "    </tr>\n",
       "    <tr>\n",
       "      <th>10</th>\n",
       "      <td>CLVT</td>\n",
       "      <td>-0.019222</td>\n",
       "    </tr>\n",
       "    <tr>\n",
       "      <th>3</th>\n",
       "      <td>SCHW</td>\n",
       "      <td>-0.018147</td>\n",
       "    </tr>\n",
       "    <tr>\n",
       "      <th>15</th>\n",
       "      <td>SAP</td>\n",
       "      <td>-0.017332</td>\n",
       "    </tr>\n",
       "    <tr>\n",
       "      <th>5</th>\n",
       "      <td>LOW</td>\n",
       "      <td>-0.015363</td>\n",
       "    </tr>\n",
       "    <tr>\n",
       "      <th>17</th>\n",
       "      <td>WMG</td>\n",
       "      <td>-0.014381</td>\n",
       "    </tr>\n",
       "    <tr>\n",
       "      <th>20</th>\n",
       "      <td>TEL</td>\n",
       "      <td>-0.011965</td>\n",
       "    </tr>\n",
       "    <tr>\n",
       "      <th>1</th>\n",
       "      <td>NEE</td>\n",
       "      <td>-0.007998</td>\n",
       "    </tr>\n",
       "    <tr>\n",
       "      <th>8</th>\n",
       "      <td>BUD</td>\n",
       "      <td>-0.007224</td>\n",
       "    </tr>\n",
       "    <tr>\n",
       "      <th>14</th>\n",
       "      <td>LIN</td>\n",
       "      <td>-0.007100</td>\n",
       "    </tr>\n",
       "    <tr>\n",
       "      <th>6</th>\n",
       "      <td>OXY</td>\n",
       "      <td>-0.007061</td>\n",
       "    </tr>\n",
       "    <tr>\n",
       "      <th>12</th>\n",
       "      <td>TMUS</td>\n",
       "      <td>-0.006731</td>\n",
       "    </tr>\n",
       "    <tr>\n",
       "      <th>21</th>\n",
       "      <td>SYY</td>\n",
       "      <td>-0.005652</td>\n",
       "    </tr>\n",
       "    <tr>\n",
       "      <th>4</th>\n",
       "      <td>UNH</td>\n",
       "      <td>-0.000668</td>\n",
       "    </tr>\n",
       "    <tr>\n",
       "      <th>22</th>\n",
       "      <td>WM</td>\n",
       "      <td>0.000499</td>\n",
       "    </tr>\n",
       "    <tr>\n",
       "      <th>13</th>\n",
       "      <td>PEP</td>\n",
       "      <td>0.001363</td>\n",
       "    </tr>\n",
       "  </tbody>\n",
       "</table>\n",
       "</div>"
      ],
      "text/plain": [
       "   Company  Marginal VaR\n",
       "18    SNOW     -0.038986\n",
       "0     NVDA     -0.037317\n",
       "2     ASML     -0.032670\n",
       "11      MU     -0.030130\n",
       "9     ADBE     -0.025035\n",
       "16   GOOGL     -0.021461\n",
       "7      WFC     -0.019959\n",
       "19     DIS     -0.019577\n",
       "10    CLVT     -0.019222\n",
       "3     SCHW     -0.018147\n",
       "15     SAP     -0.017332\n",
       "5      LOW     -0.015363\n",
       "17     WMG     -0.014381\n",
       "20     TEL     -0.011965\n",
       "1      NEE     -0.007998\n",
       "8      BUD     -0.007224\n",
       "14     LIN     -0.007100\n",
       "6      OXY     -0.007061\n",
       "12    TMUS     -0.006731\n",
       "21     SYY     -0.005652\n",
       "4      UNH     -0.000668\n",
       "22      WM      0.000499\n",
       "13     PEP      0.001363"
      ]
     },
     "execution_count": 29,
     "metadata": {},
     "output_type": "execute_result"
    }
   ],
   "source": [
    "Marginal_VaR_df = pd.DataFrame({'Company':eqty_list, 'Marginal VaR':Marginal_VaR_list})\n",
    "Marginal_VaR_df=Marginal_VaR_df.sort_values(by='Marginal VaR', ascending=True)\n",
    "Marginal_VaR_df"
   ]
  },
  {
   "cell_type": "code",
   "execution_count": 30,
   "metadata": {},
   "outputs": [
    {
     "data": {
      "text/plain": [
       "Company              SNOW\n",
       "Marginal VaR   -0.0389861\n",
       "Name: 18, dtype: object"
      ]
     },
     "execution_count": 30,
     "metadata": {},
     "output_type": "execute_result"
    }
   ],
   "source": [
    "Marginal_VaR_df.iloc[0]"
   ]
  },
  {
   "cell_type": "markdown",
   "metadata": {},
   "source": [
    "At the 95% confidence level, each additional `$1` invested in SNOW increases the portfolio's potential one-day loss by approximately $0.039"
   ]
  },
  {
   "cell_type": "markdown",
   "metadata": {},
   "source": [
    "### Marginal VaR with each sector\n"
   ]
  },
  {
   "cell_type": "code",
   "execution_count": 31,
   "metadata": {},
   "outputs": [
    {
     "data": {
      "text/plain": [
       "0     Information Technology\n",
       "1                  Utilities\n",
       "3                 Financials\n",
       "4                Health Care\n",
       "5     Consumer Discretionary\n",
       "6                     Energy\n",
       "8           Consumer Staples\n",
       "10               Industrials\n",
       "12    Communication Services\n",
       "14                 Materials\n",
       "Name: Sector, dtype: object"
      ]
     },
     "execution_count": 31,
     "metadata": {},
     "output_type": "execute_result"
    }
   ],
   "source": [
    "sector = df_weight1['Sector'].drop_duplicates()\n",
    "sector"
   ]
  },
  {
   "cell_type": "code",
   "execution_count": 32,
   "metadata": {},
   "outputs": [],
   "source": [
    "sector_list=[]\n",
    "Marginal_VaR_list1=[]\n",
    "for sec in sector:\n",
    "    sector_market_val = df_weight1.loc[df_weight1['Sector'] == sec,'Market_Value'].sum()\n",
    "    market_val_left1 = df_total - sector_market_val\n",
    "    \n",
    "    df_left1 = df_weight1.loc[df_weight1['Sector']!= sec].copy()\n",
    "    df_left1['New_weight'] = df_left1['Market_Value']/market_val_left1\n",
    "    df_left_weight1 = np.array(df_left1['New_weight'])\n",
    "    \n",
    "    company_left=list(df_weight1.loc[df_weight1['Sector']==sec,'Company'])\n",
    "    df_left_returns1=returns.drop(company_left,axis=1).copy(deep=True)\n",
    "    stats1 = stat_port(df_left_returns1)\n",
    "    \n",
    "    port_performance= portfolioPerformance(df_left_weight1, stats1[0], stats1[2])\n",
    "    VaR_para_new = var_parametric(port_performance[0], port_performance[1],  distribution='normal', alpha=5)*market_val_left1\n",
    "    VaR_his_new = historicalVaR(df_left_returns1,df_left_weight1, cl=0.95)*market_val_left1\n",
    "    VaR_mc_new = var_mc(stats1[0],stats1[2],df_left_weight1,nsim=20000,alpha=5)*market_val_left1\n",
    "    \n",
    "    VaR_avg_new1 = (VaR_para_new+VaR_his_new+VaR_mc_new)/3\n",
    "    Marginal_VaR1= (VaR_avg - VaR_avg_new1)/sector_market_val\n",
    "    sector_list.append(sec)\n",
    "    Marginal_VaR_list1.append(Marginal_VaR1)"
   ]
  },
  {
   "cell_type": "code",
   "execution_count": 33,
   "metadata": {},
   "outputs": [
    {
     "data": {
      "text/html": [
       "<div>\n",
       "<style scoped>\n",
       "    .dataframe tbody tr th:only-of-type {\n",
       "        vertical-align: middle;\n",
       "    }\n",
       "\n",
       "    .dataframe tbody tr th {\n",
       "        vertical-align: top;\n",
       "    }\n",
       "\n",
       "    .dataframe thead th {\n",
       "        text-align: right;\n",
       "    }\n",
       "</style>\n",
       "<table border=\"1\" class=\"dataframe\">\n",
       "  <thead>\n",
       "    <tr style=\"text-align: right;\">\n",
       "      <th></th>\n",
       "      <th>Sector</th>\n",
       "      <th>Marginal VaR</th>\n",
       "    </tr>\n",
       "  </thead>\n",
       "  <tbody>\n",
       "    <tr>\n",
       "      <th>0</th>\n",
       "      <td>Information Technology</td>\n",
       "      <td>-0.029625</td>\n",
       "    </tr>\n",
       "    <tr>\n",
       "      <th>2</th>\n",
       "      <td>Financials</td>\n",
       "      <td>-0.018136</td>\n",
       "    </tr>\n",
       "    <tr>\n",
       "      <th>8</th>\n",
       "      <td>Communication Services</td>\n",
       "      <td>-0.016552</td>\n",
       "    </tr>\n",
       "    <tr>\n",
       "      <th>4</th>\n",
       "      <td>Consumer Discretionary</td>\n",
       "      <td>-0.015000</td>\n",
       "    </tr>\n",
       "    <tr>\n",
       "      <th>7</th>\n",
       "      <td>Industrials</td>\n",
       "      <td>-0.013326</td>\n",
       "    </tr>\n",
       "    <tr>\n",
       "      <th>5</th>\n",
       "      <td>Energy</td>\n",
       "      <td>-0.008582</td>\n",
       "    </tr>\n",
       "    <tr>\n",
       "      <th>1</th>\n",
       "      <td>Utilities</td>\n",
       "      <td>-0.007386</td>\n",
       "    </tr>\n",
       "    <tr>\n",
       "      <th>6</th>\n",
       "      <td>Consumer Staples</td>\n",
       "      <td>-0.007342</td>\n",
       "    </tr>\n",
       "    <tr>\n",
       "      <th>3</th>\n",
       "      <td>Health Care</td>\n",
       "      <td>-0.006794</td>\n",
       "    </tr>\n",
       "    <tr>\n",
       "      <th>9</th>\n",
       "      <td>Materials</td>\n",
       "      <td>-0.006755</td>\n",
       "    </tr>\n",
       "  </tbody>\n",
       "</table>\n",
       "</div>"
      ],
      "text/plain": [
       "                   Sector  Marginal VaR\n",
       "0  Information Technology     -0.029625\n",
       "2              Financials     -0.018136\n",
       "8  Communication Services     -0.016552\n",
       "4  Consumer Discretionary     -0.015000\n",
       "7             Industrials     -0.013326\n",
       "5                  Energy     -0.008582\n",
       "1               Utilities     -0.007386\n",
       "6        Consumer Staples     -0.007342\n",
       "3             Health Care     -0.006794\n",
       "9               Materials     -0.006755"
      ]
     },
     "execution_count": 33,
     "metadata": {},
     "output_type": "execute_result"
    }
   ],
   "source": [
    "Marginal_VaR_df1 = pd.DataFrame({'Sector':sector_list, 'Marginal VaR':Marginal_VaR_list1})\n",
    "Marginal_VaR_df1 =Marginal_VaR_df1.sort_values(by='Marginal VaR', ascending=True)\n",
    "Marginal_VaR_df1"
   ]
  },
  {
   "cell_type": "code",
   "execution_count": 34,
   "metadata": {},
   "outputs": [
    {
     "data": {
      "text/plain": [
       "Sector          Information Technology\n",
       "Marginal VaR                -0.0296251\n",
       "Name: 0, dtype: object"
      ]
     },
     "execution_count": 34,
     "metadata": {},
     "output_type": "execute_result"
    }
   ],
   "source": [
    "Marginal_VaR_df1.loc[0]"
   ]
  },
  {
   "cell_type": "markdown",
   "metadata": {},
   "source": [
    "At the 95% confidence level, each additional `$1` invested in Information Technology sector increases the portfolio's potential one-day loss by approximately $0.030"
   ]
  },
  {
   "cell_type": "code",
   "execution_count": null,
   "metadata": {},
   "outputs": [],
   "source": []
  }
 ],
 "metadata": {
  "kernelspec": {
   "display_name": "Python 3",
   "language": "python",
   "name": "python3"
  },
  "language_info": {
   "codemirror_mode": {
    "name": "ipython",
    "version": 3
   },
   "file_extension": ".py",
   "mimetype": "text/x-python",
   "name": "python",
   "nbconvert_exporter": "python",
   "pygments_lexer": "ipython3",
   "version": "3.8.5"
  }
 },
 "nbformat": 4,
 "nbformat_minor": 4
}
